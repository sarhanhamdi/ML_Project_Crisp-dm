{
 "cells": [
  {
   "cell_type": "markdown",
   "id": "2149db09-cedc-41c2-9a58-ef90d404035b",
   "metadata": {},
   "source": [
    "# Phase 3: Data Preparation"
   ]
  },
  {
   "cell_type": "code",
   "execution_count": 534,
   "id": "92bb4597-54c6-4d34-a655-b8a580bdf0da",
   "metadata": {},
   "outputs": [],
   "source": [
    "import pandas as pd\n",
    "import matplotlib.pyplot as plt \n",
    "import seaborn as sns\n",
    "from math import radians, cos, sin, asin, sqrt"
   ]
  },
  {
   "cell_type": "code",
   "execution_count": 535,
   "id": "87d02ef1-4b8a-4cd9-9024-d8773aa01a7d",
   "metadata": {},
   "outputs": [],
   "source": [
    "df= pd.read_csv('datauber.csv')"
   ]
  },
  {
   "cell_type": "markdown",
   "id": "1fea56ed-574e-40cb-a6f9-82556dabc964",
   "metadata": {},
   "source": [
    "## 1. Nettoyage des données:"
   ]
  },
  {
   "cell_type": "markdown",
   "id": "a8efc368-836e-49ef-988d-1dc573cc5050",
   "metadata": {},
   "source": [
    "### Les valeurs manquants :"
   ]
  },
  {
   "cell_type": "code",
   "execution_count": 538,
   "id": "ef4f8dd7-2e20-48aa-a853-72c773f607e7",
   "metadata": {},
   "outputs": [
    {
     "name": "stdout",
     "output_type": "stream",
     "text": [
      "Nombre total de valeurs manquantes : 19922\n"
     ]
    }
   ],
   "source": [
    "total_missing = df.isnull().sum().sum()\n",
    "print(f\"Nombre total de valeurs manquantes : {total_missing}\")"
   ]
  },
  {
   "cell_type": "code",
   "execution_count": 539,
   "id": "e9011e51-3926-4468-acce-f4fbad82cd06",
   "metadata": {},
   "outputs": [
    {
     "name": "stdout",
     "output_type": "stream",
     "text": [
      "Unnamed: 0: 4.81%\n",
      "key: 5.03%\n",
      "fare_amount: 4.87%\n",
      "pickup_datetime: 5.14%\n",
      "pickup_longitude: 4.94%\n",
      "pickup_latitude: 5.06%\n",
      "dropoff_longitude: 4.94%\n",
      "dropoff_latitude: 5.09%\n",
      "passenger_count: 5.00%\n"
     ]
    }
   ],
   "source": [
    "for col in df.columns:\n",
    "    percentage_values = df[col].isnull().mean() * 100 \n",
    "    print(f\"{col}: {percentage_values:.2f}%\")\n"
   ]
  },
  {
   "cell_type": "code",
   "execution_count": 540,
   "id": "e72bb559-da39-4638-a92e-275857cd97d5",
   "metadata": {},
   "outputs": [
    {
     "name": "stdout",
     "output_type": "stream",
     "text": [
      "NUMERIC VARIABLES:\n",
      "Unnamed: 0\n",
      "fare_amount\n",
      "pickup_longitude\n",
      "pickup_latitude\n",
      "dropoff_longitude\n",
      "dropoff_latitude\n",
      "passenger_count\n"
     ]
    }
   ],
   "source": [
    "print(\"NUMERIC VARIABLES:\")\n",
    "num_var = df._get_numeric_data().columns\n",
    "for col in num_var:\n",
    "    print(col)"
   ]
  },
  {
   "cell_type": "code",
   "execution_count": 541,
   "id": "44bd2894-e8a4-4ef5-b738-e24a92f87893",
   "metadata": {},
   "outputs": [
    {
     "name": "stdout",
     "output_type": "stream",
     "text": [
      "Nombre de valeurs extrêmes dans Unnamed: 0 : 0\n",
      "Nombre de valeurs extrêmes dans fare_amount : 3545\n",
      "Nombre de valeurs extrêmes dans pickup_longitude : 2913\n",
      "Nombre de valeurs extrêmes dans pickup_latitude : 1954\n",
      "Nombre de valeurs extrêmes dans dropoff_longitude : 3023\n",
      "Nombre de valeurs extrêmes dans dropoff_latitude : 2563\n",
      "Nombre de valeurs extrêmes dans passenger_count : 4659\n"
     ]
    }
   ],
   "source": [
    "for col in num_var:\n",
    "    Q1 = df[col].quantile(0.25)\n",
    "    Q3 = df[col].quantile(0.75)\n",
    "    IQR = Q3 - Q1\n",
    "\n",
    "    borne_basse = Q1 - 1.5 * IQR\n",
    "    borne_haute = Q3 + 1.5 * IQR\n",
    "\n",
    "    outliers = df[(df[col] < borne_basse) | (df[col] > borne_haute)]\n",
    "    print(f\"Nombre de valeurs extrêmes dans {col} :\", outliers.shape[0])"
   ]
  },
  {
   "cell_type": "code",
   "execution_count": 542,
   "id": "d595bfff-c5c5-42f8-98a9-653ce9621155",
   "metadata": {},
   "outputs": [
    {
     "name": "stdout",
     "output_type": "stream",
     "text": [
      "Unnamed: 0 0\n",
      "fare_amount 0\n",
      "pickup_longitude 0\n",
      "pickup_latitude 0\n",
      "dropoff_longitude 0\n",
      "dropoff_latitude 0\n",
      "passenger_count 0\n"
     ]
    }
   ],
   "source": [
    "for col in num_var:\n",
    "    mediane = df[col].median()\n",
    "    df[col]=df[col].fillna(mediane)\n",
    "    print(col, df[col].isnull().sum())"
   ]
  },
  {
   "cell_type": "code",
   "execution_count": 543,
   "id": "b9d0c8ff-89f7-466c-959f-0ae4743f7083",
   "metadata": {},
   "outputs": [
    {
     "name": "stdout",
     "output_type": "stream",
     "text": [
      "CATEGORICAL VARIABLES:\n",
      "key\n",
      "pickup_datetime\n"
     ]
    }
   ],
   "source": [
    "print(\"CATEGORICAL VARIABLES:\")\n",
    "cat_var = df.select_dtypes(include=['object']).columns\n",
    "for col in cat_var:\n",
    "    print(col)"
   ]
  },
  {
   "cell_type": "code",
   "execution_count": 544,
   "id": "286c7718-a59f-46a1-932e-1a640c394d27",
   "metadata": {},
   "outputs": [
    {
     "name": "stdout",
     "output_type": "stream",
     "text": [
      "key 0\n",
      "pickup_datetime 0\n"
     ]
    }
   ],
   "source": [
    "for col in cat_var:\n",
    "    mode_val = df[col].mode()[0]\n",
    "    df[col] = df[col].fillna(mode_val)\n",
    "    print(col, df[col].isnull().sum())"
   ]
  },
  {
   "cell_type": "code",
   "execution_count": 545,
   "id": "894ee9e5-210e-4f64-bf58-1cc782cd6546",
   "metadata": {},
   "outputs": [
    {
     "name": "stdout",
     "output_type": "stream",
     "text": [
      "Nombre total de valeurs manquantes : 0\n"
     ]
    }
   ],
   "source": [
    "total_missing = df.isnull().sum().sum()\n",
    "print(f\"Nombre total de valeurs manquantes : {total_missing}\")"
   ]
  },
  {
   "cell_type": "markdown",
   "id": "40c432c8-8d2f-4c4c-96c1-2c22b1ae22e0",
   "metadata": {},
   "source": [
    "### Supprission de la colonne unnamed :"
   ]
  },
  {
   "cell_type": "code",
   "execution_count": 547,
   "id": "c6cee981-c4f6-4473-a464-a5599b55fb38",
   "metadata": {},
   "outputs": [],
   "source": [
    "df = df.drop(columns=[\"Unnamed: 0\"])"
   ]
  },
  {
   "cell_type": "markdown",
   "id": "235c852f-15c8-4602-ada0-09932dd4a619",
   "metadata": {},
   "source": [
    "### Suppression des cordonnées GPS invalides :"
   ]
  },
  {
   "cell_type": "code",
   "execution_count": 549,
   "id": "06f19770-ba19-4177-949d-507b187bd03a",
   "metadata": {},
   "outputs": [],
   "source": [
    "df = df[~((df['pickup_longitude'] == 0) & (df['pickup_latitude'] == 0))]\n",
    "df = df[~((df['dropoff_longitude'] == 0) & (df['dropoff_latitude'] == 0))]"
   ]
  },
  {
   "cell_type": "code",
   "execution_count": 550,
   "id": "45463825-6182-4ac4-8052-0311b407c23e",
   "metadata": {},
   "outputs": [
    {
     "name": "stdout",
     "output_type": "stream",
     "text": [
      "Pickup longitude hors bornes : 1\n",
      "Dropoff longitude hors bornes : 1\n"
     ]
    }
   ],
   "source": [
    "outliers_pickup = df[(df['pickup_longitude'] < -180) | (df['pickup_longitude'] > 180)]\n",
    "outliers_dropoff = df[(df['dropoff_longitude'] < -180) | (df['dropoff_longitude'] > 180)]\n",
    "print(\"Pickup longitude hors bornes :\", len(outliers_pickup))\n",
    "print(\"Dropoff longitude hors bornes :\", len(outliers_dropoff))"
   ]
  },
  {
   "cell_type": "code",
   "execution_count": 551,
   "id": "e8fffba7-c540-45a1-a635-70d58e9b3cab",
   "metadata": {},
   "outputs": [
    {
     "name": "stdout",
     "output_type": "stream",
     "text": [
      "Pickup latitude hors bornes : 0\n",
      "Dropoff latitude hors bornes : 0\n"
     ]
    }
   ],
   "source": [
    "outliers_pickup = df[(df['pickup_latitude'] < -90) | (df['pickup_latitude'] > 90)]\n",
    "outliers_dropoff = df[(df['dropoff_latitude'] < -90) | (df['dropoff_latitude'] > 90)]\n",
    "print(\"Pickup latitude hors bornes :\", len(outliers_pickup))\n",
    "print(\"Dropoff latitude hors bornes :\", len(outliers_dropoff))"
   ]
  },
  {
   "cell_type": "code",
   "execution_count": 552,
   "id": "2471fb71-2a50-4df0-a58f-2c43d02e4b17",
   "metadata": {},
   "outputs": [],
   "source": [
    "df = df[(df['pickup_longitude'].between(-180, 180)) &\n",
    "        (df['dropoff_longitude'].between(-180, 180))]"
   ]
  },
  {
   "cell_type": "markdown",
   "id": "df2f450c-195e-4985-a94c-0e1f9cdc0d94",
   "metadata": {},
   "source": [
    "### Vérification de la colonne Passenger_Count :"
   ]
  },
  {
   "cell_type": "code",
   "execution_count": 554,
   "id": "a45d6726-bf84-484a-9f50-106ac886ec36",
   "metadata": {},
   "outputs": [
    {
     "name": "stdout",
     "output_type": "stream",
     "text": [
      "nombre de passager null: 131\n",
      "nombre de passager plus que 6: 0\n"
     ]
    }
   ],
   "source": [
    "outliers_passenger0 = df[ df['passenger_count'] == 0]\n",
    "outliers_passenger6 = df[(df['passenger_count'] > 6) ]\n",
    "print(\"nombre de passager null:\", len(outliers_passenger0))\n",
    "print(\"nombre de passager plus que 6:\", len(outliers_passenger6))"
   ]
  },
  {
   "cell_type": "code",
   "execution_count": 555,
   "id": "2c341921-af76-4456-bcd7-e40231538d90",
   "metadata": {},
   "outputs": [],
   "source": [
    "df = df[~(df['passenger_count'] == 0)]"
   ]
  },
  {
   "cell_type": "markdown",
   "id": "5f464dfa-bdff-4e11-ab21-1e570d2aac7b",
   "metadata": {},
   "source": [
    "##### key peut être duppliqué puisqu'il est composé de date et temps \n",
    "#### Suppression des doublons exacts (mêmes valeurs dans toutes les colonnes)"
   ]
  },
  {
   "cell_type": "code",
   "execution_count": 557,
   "id": "828dc8d6-7475-4080-8308-c34b713e2ca0",
   "metadata": {},
   "outputs": [],
   "source": [
    "df = df.drop_duplicates()"
   ]
  },
  {
   "cell_type": "markdown",
   "id": "84671901-6c75-43b8-995d-1273c1a22a3d",
   "metadata": {},
   "source": [
    "### Correction des Prix aberrants :"
   ]
  },
  {
   "cell_type": "markdown",
   "id": "e55c3a0e-2f21-402e-bf7e-83699733eaf7",
   "metadata": {},
   "source": [
    "##### On supprime les prix aberrantes à partir de 130 "
   ]
  },
  {
   "cell_type": "code",
   "execution_count": 560,
   "id": "e36732c6-0dba-44ef-9436-639305012149",
   "metadata": {},
   "outputs": [],
   "source": [
    "df = df[~(df['fare_amount'] >= 130)]"
   ]
  },
  {
   "cell_type": "markdown",
   "id": "b96e9c2a",
   "metadata": {},
   "source": [
    "## Feature engineering\n",
    "### change latitude and longitude to distance"
   ]
  },
  {
   "cell_type": "markdown",
   "id": "be3cbb02",
   "metadata": {},
   "source": [
    "### change pickup_datetime to hours and days columns"
   ]
  },
  {
   "cell_type": "code",
   "execution_count": 563,
   "id": "b0c7a20c",
   "metadata": {},
   "outputs": [],
   "source": [
    "def haversine(lon1, lat1, lon2, lat2):\n",
    "    lon1, lat1, lon2, lat2 = map(radians, [lon1, lat1, lon2, lat2])\n",
    "    dlon = lon2 - lon1\n",
    "    dlat = lat2 - lat1\n",
    "    a = sin(dlat/2)**2 + cos(lat1) * cos(lat2) * sin(dlon/2)**2\n",
    "    c = 2 * asin(sqrt(a))\n",
    "    km = 6371 * c\n",
    "    return km"
   ]
  },
  {
   "cell_type": "code",
   "execution_count": 564,
   "id": "740e4a8e",
   "metadata": {},
   "outputs": [],
   "source": [
    "df['distance_km'] = df.apply(lambda row: haversine(\n",
    "    row['pickup_longitude'], row['pickup_latitude'],\n",
    "    row['dropoff_longitude'], row['dropoff_latitude']), axis=1)"
   ]
  },
  {
   "cell_type": "code",
   "execution_count": 565,
   "id": "cd4b8fb1",
   "metadata": {},
   "outputs": [],
   "source": [
    "df['pickup_datetime'] = pd.to_datetime(df['pickup_datetime'], errors='coerce')"
   ]
  },
  {
   "cell_type": "code",
   "execution_count": 566,
   "id": "6b696541",
   "metadata": {},
   "outputs": [],
   "source": [
    "df['pickup_hour'] = df['pickup_datetime'].dt.hour\n",
    "df['pickup_dow'] = df['pickup_datetime'].dt.dayofweek  \n",
    "df['is_weekend'] = df['pickup_dow'].isin([5,6]).astype(int)"
   ]
  },
  {
   "cell_type": "code",
   "execution_count": 567,
   "id": "4a9b397c",
   "metadata": {},
   "outputs": [
    {
     "data": {
      "text/html": [
       "<div>\n",
       "<style scoped>\n",
       "    .dataframe tbody tr th:only-of-type {\n",
       "        vertical-align: middle;\n",
       "    }\n",
       "\n",
       "    .dataframe tbody tr th {\n",
       "        vertical-align: top;\n",
       "    }\n",
       "\n",
       "    .dataframe thead th {\n",
       "        text-align: right;\n",
       "    }\n",
       "</style>\n",
       "<table border=\"1\" class=\"dataframe\">\n",
       "  <thead>\n",
       "    <tr style=\"text-align: right;\">\n",
       "      <th></th>\n",
       "      <th>key</th>\n",
       "      <th>fare_amount</th>\n",
       "      <th>pickup_datetime</th>\n",
       "      <th>pickup_longitude</th>\n",
       "      <th>pickup_latitude</th>\n",
       "      <th>dropoff_longitude</th>\n",
       "      <th>dropoff_latitude</th>\n",
       "      <th>passenger_count</th>\n",
       "      <th>distance_km</th>\n",
       "      <th>pickup_hour</th>\n",
       "      <th>pickup_dow</th>\n",
       "      <th>is_weekend</th>\n",
       "    </tr>\n",
       "  </thead>\n",
       "  <tbody>\n",
       "    <tr>\n",
       "      <th>0</th>\n",
       "      <td>2015-05-07 19:52:06.0000003</td>\n",
       "      <td>7.5</td>\n",
       "      <td>2015-05-07 19:52:06+00:00</td>\n",
       "      <td>-73.999817</td>\n",
       "      <td>40.738354</td>\n",
       "      <td>-73.999512</td>\n",
       "      <td>40.723217</td>\n",
       "      <td>1.0</td>\n",
       "      <td>1.683323</td>\n",
       "      <td>19</td>\n",
       "      <td>3</td>\n",
       "      <td>0</td>\n",
       "    </tr>\n",
       "    <tr>\n",
       "      <th>1</th>\n",
       "      <td>2009-07-17 20:04:56.0000002</td>\n",
       "      <td>7.7</td>\n",
       "      <td>2009-07-17 20:04:56+00:00</td>\n",
       "      <td>-73.994355</td>\n",
       "      <td>40.728225</td>\n",
       "      <td>-73.994710</td>\n",
       "      <td>40.750325</td>\n",
       "      <td>1.0</td>\n",
       "      <td>2.457590</td>\n",
       "      <td>20</td>\n",
       "      <td>4</td>\n",
       "      <td>0</td>\n",
       "    </tr>\n",
       "    <tr>\n",
       "      <th>2</th>\n",
       "      <td>2009-08-24 21:45:00.00000061</td>\n",
       "      <td>12.9</td>\n",
       "      <td>2009-01-11 13:07:00+00:00</td>\n",
       "      <td>-74.005043</td>\n",
       "      <td>40.740770</td>\n",
       "      <td>-73.980170</td>\n",
       "      <td>40.772647</td>\n",
       "      <td>1.0</td>\n",
       "      <td>4.117407</td>\n",
       "      <td>13</td>\n",
       "      <td>6</td>\n",
       "      <td>1</td>\n",
       "    </tr>\n",
       "    <tr>\n",
       "      <th>3</th>\n",
       "      <td>2009-06-26 08:22:21.0000001</td>\n",
       "      <td>5.3</td>\n",
       "      <td>2009-06-26 08:22:21+00:00</td>\n",
       "      <td>-73.976124</td>\n",
       "      <td>40.752503</td>\n",
       "      <td>-73.965316</td>\n",
       "      <td>40.803349</td>\n",
       "      <td>3.0</td>\n",
       "      <td>5.726622</td>\n",
       "      <td>8</td>\n",
       "      <td>4</td>\n",
       "      <td>0</td>\n",
       "    </tr>\n",
       "    <tr>\n",
       "      <th>4</th>\n",
       "      <td>2014-08-28 17:47:00.000000188</td>\n",
       "      <td>16.0</td>\n",
       "      <td>2014-08-28 17:47:00+00:00</td>\n",
       "      <td>-73.981857</td>\n",
       "      <td>40.744085</td>\n",
       "      <td>-73.973082</td>\n",
       "      <td>40.752910</td>\n",
       "      <td>5.0</td>\n",
       "      <td>1.228574</td>\n",
       "      <td>17</td>\n",
       "      <td>3</td>\n",
       "      <td>0</td>\n",
       "    </tr>\n",
       "  </tbody>\n",
       "</table>\n",
       "</div>"
      ],
      "text/plain": [
       "                             key  fare_amount           pickup_datetime  \\\n",
       "0    2015-05-07 19:52:06.0000003          7.5 2015-05-07 19:52:06+00:00   \n",
       "1    2009-07-17 20:04:56.0000002          7.7 2009-07-17 20:04:56+00:00   \n",
       "2   2009-08-24 21:45:00.00000061         12.9 2009-01-11 13:07:00+00:00   \n",
       "3    2009-06-26 08:22:21.0000001          5.3 2009-06-26 08:22:21+00:00   \n",
       "4  2014-08-28 17:47:00.000000188         16.0 2014-08-28 17:47:00+00:00   \n",
       "\n",
       "   pickup_longitude  pickup_latitude  dropoff_longitude  dropoff_latitude  \\\n",
       "0        -73.999817        40.738354         -73.999512         40.723217   \n",
       "1        -73.994355        40.728225         -73.994710         40.750325   \n",
       "2        -74.005043        40.740770         -73.980170         40.772647   \n",
       "3        -73.976124        40.752503         -73.965316         40.803349   \n",
       "4        -73.981857        40.744085         -73.973082         40.752910   \n",
       "\n",
       "   passenger_count  distance_km  pickup_hour  pickup_dow  is_weekend  \n",
       "0              1.0     1.683323           19           3           0  \n",
       "1              1.0     2.457590           20           4           0  \n",
       "2              1.0     4.117407           13           6           1  \n",
       "3              3.0     5.726622            8           4           0  \n",
       "4              5.0     1.228574           17           3           0  "
      ]
     },
     "execution_count": 567,
     "metadata": {},
     "output_type": "execute_result"
    }
   ],
   "source": [
    "df.head()"
   ]
  },
  {
   "cell_type": "markdown",
   "id": "4d8b2ca0-9f4b-4f5d-a10b-8bf04543c2f4",
   "metadata": {},
   "source": [
    "### verification de la colonne distance_km"
   ]
  },
  {
   "cell_type": "code",
   "execution_count": 569,
   "id": "5867a00f-1a6f-4612-b3f1-0c5c75ac4d89",
   "metadata": {},
   "outputs": [
    {
     "data": {
      "text/html": [
       "<div>\n",
       "<style scoped>\n",
       "    .dataframe tbody tr th:only-of-type {\n",
       "        vertical-align: middle;\n",
       "    }\n",
       "\n",
       "    .dataframe tbody tr th {\n",
       "        vertical-align: top;\n",
       "    }\n",
       "\n",
       "    .dataframe thead th {\n",
       "        text-align: right;\n",
       "    }\n",
       "</style>\n",
       "<table border=\"1\" class=\"dataframe\">\n",
       "  <thead>\n",
       "    <tr style=\"text-align: right;\">\n",
       "      <th></th>\n",
       "      <th>key</th>\n",
       "      <th>fare_amount</th>\n",
       "      <th>pickup_datetime</th>\n",
       "      <th>pickup_longitude</th>\n",
       "      <th>pickup_latitude</th>\n",
       "      <th>dropoff_longitude</th>\n",
       "      <th>dropoff_latitude</th>\n",
       "      <th>passenger_count</th>\n",
       "      <th>distance_km</th>\n",
       "      <th>pickup_hour</th>\n",
       "      <th>pickup_dow</th>\n",
       "      <th>is_weekend</th>\n",
       "    </tr>\n",
       "  </thead>\n",
       "  <tbody>\n",
       "  </tbody>\n",
       "</table>\n",
       "</div>"
      ],
      "text/plain": [
       "Empty DataFrame\n",
       "Columns: [key, fare_amount, pickup_datetime, pickup_longitude, pickup_latitude, dropoff_longitude, dropoff_latitude, passenger_count, distance_km, pickup_hour, pickup_dow, is_weekend]\n",
       "Index: []"
      ]
     },
     "execution_count": 569,
     "metadata": {},
     "output_type": "execute_result"
    }
   ],
   "source": [
    "df[(df['distance_km']==0) & (df['pickup_longitude'] != df['dropoff_longitude']) & (df['pickup_latitude'] != df['pickup_latitude'])]"
   ]
  },
  {
   "cell_type": "markdown",
   "id": "67e9518d-73e6-48e3-b6a3-11f9ee9f9aa9",
   "metadata": {},
   "source": [
    "## supprimer les valeurs abberantes dans la colonne distance_km"
   ]
  },
  {
   "cell_type": "code",
   "execution_count": 571,
   "id": "65933510-d298-4158-ab2a-bf2f31780c7b",
   "metadata": {},
   "outputs": [
    {
     "data": {
      "image/png": "[encoded data removed]",
      "text/plain": [
       "<Figure size 640x480 with 1 Axes>"
      ]
     },
     "metadata": {},
     "output_type": "display_data"
    }
   ],
   "source": [
    "import matplotlib.pyplot as plt\n",
    "\n",
    "plt.scatter(df['distance_km'], df['fare_amount'], alpha=0.3)\n",
    "plt.xlabel('Distance (km)')\n",
    "plt.ylabel('Prix ($)')\n",
    "plt.title('Prix vs Distance')\n",
    "plt.show()"
   ]
  },
  {
   "cell_type": "code",
   "execution_count": 572,
   "id": "276787c9-cf49-48dd-a58c-4fafcbc94479",
   "metadata": {},
   "outputs": [],
   "source": [
    "df= df[df['distance_km']<100]"
   ]
  },
  {
   "cell_type": "code",
   "execution_count": 573,
   "id": "dd875a69-45a7-4676-b8a8-ed8eb5674fcf",
   "metadata": {},
   "outputs": [
    {
     "data": {
      "text/plain": [
       "(43266, 12)"
      ]
     },
     "execution_count": 573,
     "metadata": {},
     "output_type": "execute_result"
    }
   ],
   "source": [
    "df.shape"
   ]
  },
  {
   "cell_type": "code",
   "execution_count": 574,
   "id": "452b568d-bddf-4abf-9bf4-d7b35fce444e",
   "metadata": {},
   "outputs": [
    {
     "data": {
      "image/png": "[encoded data removed]",
      "text/plain": [
       "<Figure size 640x480 with 1 Axes>"
      ]
     },
     "metadata": {},
     "output_type": "display_data"
    }
   ],
   "source": [
    "import matplotlib.pyplot as plt\n",
    "\n",
    "plt.scatter(df['distance_km'], df['fare_amount'], alpha=0.3)\n",
    "plt.xlabel('Distance (km)')\n",
    "plt.ylabel('Prix ($)')\n",
    "plt.title('Prix vs Distance')\n",
    "plt.show()"
   ]
  },
  {
   "cell_type": "markdown",
   "id": "42bec870-0b7d-4c0e-8e8f-a23fdea1457f",
   "metadata": {},
   "source": [
    "## Vérifier si ces trajets sont plausibles économiquement :"
   ]
  },
  {
   "cell_type": "code",
   "execution_count": 576,
   "id": "ce316ba3",
   "metadata": {},
   "outputs": [
    {
     "name": "stdout",
     "output_type": "stream",
     "text": [
      "count    43266.000000\n",
      "mean         4.171989\n",
      "std          2.960360\n",
      "min          0.000000\n",
      "25%          2.886786\n",
      "50%          3.707200\n",
      "75%          4.746613\n",
      "max        120.300000\n",
      "Name: price_per_km, dtype: float64\n"
     ]
    }
   ],
   "source": [
    "import numpy as np\n",
    "\n",
    "df['price_per_km'] = np.where(\n",
    "    df['distance_km'] < 1,\n",
    "    df['fare_amount'],                          # if distance < 0.1\n",
    "    df['fare_amount'] / df['distance_km']       # else\n",
    ")\n",
    "print(df['price_per_km'].describe()) "
   ]
  },
  {
   "cell_type": "code",
   "execution_count": 577,
   "id": "c9660fb3-8fba-4289-ad91-beabc500c642",
   "metadata": {},
   "outputs": [
    {
     "data": {
      "text/html": [
       "<div>\n",
       "<style scoped>\n",
       "    .dataframe tbody tr th:only-of-type {\n",
       "        vertical-align: middle;\n",
       "    }\n",
       "\n",
       "    .dataframe tbody tr th {\n",
       "        vertical-align: top;\n",
       "    }\n",
       "\n",
       "    .dataframe thead th {\n",
       "        text-align: right;\n",
       "    }\n",
       "</style>\n",
       "<table border=\"1\" class=\"dataframe\">\n",
       "  <thead>\n",
       "    <tr style=\"text-align: right;\">\n",
       "      <th></th>\n",
       "      <th>key</th>\n",
       "      <th>fare_amount</th>\n",
       "      <th>pickup_datetime</th>\n",
       "      <th>pickup_longitude</th>\n",
       "      <th>pickup_latitude</th>\n",
       "      <th>dropoff_longitude</th>\n",
       "      <th>dropoff_latitude</th>\n",
       "      <th>passenger_count</th>\n",
       "      <th>distance_km</th>\n",
       "      <th>pickup_hour</th>\n",
       "      <th>pickup_dow</th>\n",
       "      <th>is_weekend</th>\n",
       "      <th>price_per_km</th>\n",
       "    </tr>\n",
       "  </thead>\n",
       "  <tbody>\n",
       "    <tr>\n",
       "      <th>20744</th>\n",
       "      <td>2015-04-22 23:25:07.0000008</td>\n",
       "      <td>0.0</td>\n",
       "      <td>2015-04-22 23:25:07+00:00</td>\n",
       "      <td>-73.658897</td>\n",
       "      <td>40.805199</td>\n",
       "      <td>-73.658897</td>\n",
       "      <td>40.805199</td>\n",
       "      <td>1.0</td>\n",
       "      <td>0.000000</td>\n",
       "      <td>23</td>\n",
       "      <td>2</td>\n",
       "      <td>0</td>\n",
       "      <td>0.0</td>\n",
       "    </tr>\n",
       "    <tr>\n",
       "      <th>22182</th>\n",
       "      <td>2010-03-20 02:59:51.0000002</td>\n",
       "      <td>0.0</td>\n",
       "      <td>2010-03-20 02:59:51+00:00</td>\n",
       "      <td>-73.994366</td>\n",
       "      <td>40.755395</td>\n",
       "      <td>-73.998718</td>\n",
       "      <td>40.854853</td>\n",
       "      <td>2.0</td>\n",
       "      <td>11.065289</td>\n",
       "      <td>2</td>\n",
       "      <td>5</td>\n",
       "      <td>1</td>\n",
       "      <td>0.0</td>\n",
       "    </tr>\n",
       "  </tbody>\n",
       "</table>\n",
       "</div>"
      ],
      "text/plain": [
       "                               key  fare_amount           pickup_datetime  \\\n",
       "20744  2015-04-22 23:25:07.0000008          0.0 2015-04-22 23:25:07+00:00   \n",
       "22182  2010-03-20 02:59:51.0000002          0.0 2010-03-20 02:59:51+00:00   \n",
       "\n",
       "       pickup_longitude  pickup_latitude  dropoff_longitude  dropoff_latitude  \\\n",
       "20744        -73.658897        40.805199         -73.658897         40.805199   \n",
       "22182        -73.994366        40.755395         -73.998718         40.854853   \n",
       "\n",
       "       passenger_count  distance_km  pickup_hour  pickup_dow  is_weekend  \\\n",
       "20744              1.0     0.000000           23           2           0   \n",
       "22182              2.0    11.065289            2           5           1   \n",
       "\n",
       "       price_per_km  \n",
       "20744           0.0  \n",
       "22182           0.0  "
      ]
     },
     "execution_count": 577,
     "metadata": {},
     "output_type": "execute_result"
    }
   ],
   "source": [
    "df[df['price_per_km']==0]"
   ]
  },
  {
   "cell_type": "code",
   "execution_count": 578,
   "id": "a4a1dbdd-365a-49c7-83ee-5b14885ae477",
   "metadata": {},
   "outputs": [
    {
     "data": {
      "text/html": [
       "<div>\n",
       "<style scoped>\n",
       "    .dataframe tbody tr th:only-of-type {\n",
       "        vertical-align: middle;\n",
       "    }\n",
       "\n",
       "    .dataframe tbody tr th {\n",
       "        vertical-align: top;\n",
       "    }\n",
       "\n",
       "    .dataframe thead th {\n",
       "        text-align: right;\n",
       "    }\n",
       "</style>\n",
       "<table border=\"1\" class=\"dataframe\">\n",
       "  <thead>\n",
       "    <tr style=\"text-align: right;\">\n",
       "      <th></th>\n",
       "      <th>key</th>\n",
       "      <th>fare_amount</th>\n",
       "      <th>pickup_datetime</th>\n",
       "      <th>pickup_longitude</th>\n",
       "      <th>pickup_latitude</th>\n",
       "      <th>dropoff_longitude</th>\n",
       "      <th>dropoff_latitude</th>\n",
       "      <th>passenger_count</th>\n",
       "      <th>distance_km</th>\n",
       "      <th>pickup_hour</th>\n",
       "      <th>pickup_dow</th>\n",
       "      <th>is_weekend</th>\n",
       "      <th>price_per_km</th>\n",
       "    </tr>\n",
       "  </thead>\n",
       "  <tbody>\n",
       "    <tr>\n",
       "      <th>880</th>\n",
       "      <td>2013-06-18 15:41:55.0000002</td>\n",
       "      <td>93.16</td>\n",
       "      <td>2013-06-18 15:41:55+00:00</td>\n",
       "      <td>-73.777117</td>\n",
       "      <td>40.645058</td>\n",
       "      <td>-74.155763</td>\n",
       "      <td>40.579618</td>\n",
       "      <td>2.0</td>\n",
       "      <td>32.779903</td>\n",
       "      <td>15</td>\n",
       "      <td>1</td>\n",
       "      <td>0</td>\n",
       "      <td>2.841985</td>\n",
       "    </tr>\n",
       "    <tr>\n",
       "      <th>2053</th>\n",
       "      <td>2014-11-01 08:42:39.0000002</td>\n",
       "      <td>113.66</td>\n",
       "      <td>2014-11-01 08:42:39+00:00</td>\n",
       "      <td>-73.951227</td>\n",
       "      <td>40.778753</td>\n",
       "      <td>-73.949938</td>\n",
       "      <td>40.778149</td>\n",
       "      <td>1.0</td>\n",
       "      <td>0.127635</td>\n",
       "      <td>8</td>\n",
       "      <td>5</td>\n",
       "      <td>1</td>\n",
       "      <td>113.660000</td>\n",
       "    </tr>\n",
       "    <tr>\n",
       "      <th>4364</th>\n",
       "      <td>2012-09-12 13:09:20.0000001</td>\n",
       "      <td>93.30</td>\n",
       "      <td>2012-09-12 13:09:20+00:00</td>\n",
       "      <td>-73.991668</td>\n",
       "      <td>40.749564</td>\n",
       "      <td>-73.790275</td>\n",
       "      <td>40.643787</td>\n",
       "      <td>2.0</td>\n",
       "      <td>20.654484</td>\n",
       "      <td>13</td>\n",
       "      <td>2</td>\n",
       "      <td>0</td>\n",
       "      <td>4.517179</td>\n",
       "    </tr>\n",
       "    <tr>\n",
       "      <th>5968</th>\n",
       "      <td>2011-05-06 00:40:00.000000224</td>\n",
       "      <td>105.00</td>\n",
       "      <td>2011-05-06 00:40:00+00:00</td>\n",
       "      <td>-73.752265</td>\n",
       "      <td>40.923303</td>\n",
       "      <td>-73.752270</td>\n",
       "      <td>40.923303</td>\n",
       "      <td>1.0</td>\n",
       "      <td>0.000420</td>\n",
       "      <td>0</td>\n",
       "      <td>4</td>\n",
       "      <td>0</td>\n",
       "      <td>105.000000</td>\n",
       "    </tr>\n",
       "    <tr>\n",
       "      <th>9060</th>\n",
       "      <td>2011-06-13 15:46:00.00000036</td>\n",
       "      <td>126.10</td>\n",
       "      <td>2011-06-13 15:46:00+00:00</td>\n",
       "      <td>-73.788657</td>\n",
       "      <td>40.640643</td>\n",
       "      <td>-74.001350</td>\n",
       "      <td>41.048048</td>\n",
       "      <td>1.0</td>\n",
       "      <td>48.706330</td>\n",
       "      <td>15</td>\n",
       "      <td>0</td>\n",
       "      <td>0</td>\n",
       "      <td>2.588986</td>\n",
       "    </tr>\n",
       "    <tr>\n",
       "      <th>11301</th>\n",
       "      <td>2013-12-06 02:17:00.00000053</td>\n",
       "      <td>113.00</td>\n",
       "      <td>2013-12-06 02:17:00+00:00</td>\n",
       "      <td>-74.468770</td>\n",
       "      <td>40.476630</td>\n",
       "      <td>-74.468772</td>\n",
       "      <td>40.752910</td>\n",
       "      <td>2.0</td>\n",
       "      <td>30.720934</td>\n",
       "      <td>2</td>\n",
       "      <td>4</td>\n",
       "      <td>0</td>\n",
       "      <td>3.678274</td>\n",
       "    </tr>\n",
       "    <tr>\n",
       "      <th>15362</th>\n",
       "      <td>2009-01-18 01:03:55.0000002</td>\n",
       "      <td>120.30</td>\n",
       "      <td>2011-06-02 15:17:13+00:00</td>\n",
       "      <td>-73.995309</td>\n",
       "      <td>40.769470</td>\n",
       "      <td>-73.988705</td>\n",
       "      <td>40.768919</td>\n",
       "      <td>2.0</td>\n",
       "      <td>0.559508</td>\n",
       "      <td>15</td>\n",
       "      <td>3</td>\n",
       "      <td>0</td>\n",
       "      <td>120.300000</td>\n",
       "    </tr>\n",
       "    <tr>\n",
       "      <th>15461</th>\n",
       "      <td>2015-03-17 02:33:09.0000002</td>\n",
       "      <td>120.08</td>\n",
       "      <td>2015-03-17 02:33:09+00:00</td>\n",
       "      <td>-73.954262</td>\n",
       "      <td>40.673717</td>\n",
       "      <td>-74.165054</td>\n",
       "      <td>40.913963</td>\n",
       "      <td>2.0</td>\n",
       "      <td>32.070607</td>\n",
       "      <td>2</td>\n",
       "      <td>1</td>\n",
       "      <td>0</td>\n",
       "      <td>3.744238</td>\n",
       "    </tr>\n",
       "    <tr>\n",
       "      <th>17183</th>\n",
       "      <td>2014-01-21 14:22:00.00000059</td>\n",
       "      <td>96.50</td>\n",
       "      <td>2014-01-21 14:22:00+00:00</td>\n",
       "      <td>-73.976660</td>\n",
       "      <td>40.752503</td>\n",
       "      <td>-74.177077</td>\n",
       "      <td>40.694952</td>\n",
       "      <td>1.0</td>\n",
       "      <td>18.060979</td>\n",
       "      <td>14</td>\n",
       "      <td>1</td>\n",
       "      <td>0</td>\n",
       "      <td>5.343010</td>\n",
       "    </tr>\n",
       "    <tr>\n",
       "      <th>20928</th>\n",
       "      <td>2013-03-19 14:39:00.00000099</td>\n",
       "      <td>90.75</td>\n",
       "      <td>2013-03-19 14:39:00+00:00</td>\n",
       "      <td>-73.981857</td>\n",
       "      <td>40.801920</td>\n",
       "      <td>-74.176798</td>\n",
       "      <td>40.694337</td>\n",
       "      <td>1.0</td>\n",
       "      <td>20.316976</td>\n",
       "      <td>14</td>\n",
       "      <td>1</td>\n",
       "      <td>0</td>\n",
       "      <td>4.466708</td>\n",
       "    </tr>\n",
       "    <tr>\n",
       "      <th>22562</th>\n",
       "      <td>2013-03-21 22:39:09.0000002</td>\n",
       "      <td>105.33</td>\n",
       "      <td>2013-03-21 22:39:09+00:00</td>\n",
       "      <td>-73.870023</td>\n",
       "      <td>40.771434</td>\n",
       "      <td>-73.800544</td>\n",
       "      <td>40.988043</td>\n",
       "      <td>1.0</td>\n",
       "      <td>24.784015</td>\n",
       "      <td>22</td>\n",
       "      <td>3</td>\n",
       "      <td>0</td>\n",
       "      <td>4.249917</td>\n",
       "    </tr>\n",
       "    <tr>\n",
       "      <th>23148</th>\n",
       "      <td>2014-06-11 16:15:00.00000081</td>\n",
       "      <td>126.83</td>\n",
       "      <td>2014-06-11 16:15:00+00:00</td>\n",
       "      <td>-73.781277</td>\n",
       "      <td>40.644915</td>\n",
       "      <td>-73.760570</td>\n",
       "      <td>41.029780</td>\n",
       "      <td>1.0</td>\n",
       "      <td>42.830475</td>\n",
       "      <td>16</td>\n",
       "      <td>2</td>\n",
       "      <td>0</td>\n",
       "      <td>2.961209</td>\n",
       "    </tr>\n",
       "    <tr>\n",
       "      <th>23232</th>\n",
       "      <td>2014-03-25 21:43:05.0000004</td>\n",
       "      <td>121.33</td>\n",
       "      <td>2014-03-25 21:43:05+00:00</td>\n",
       "      <td>-73.804839</td>\n",
       "      <td>40.661458</td>\n",
       "      <td>-74.095215</td>\n",
       "      <td>40.831124</td>\n",
       "      <td>1.0</td>\n",
       "      <td>30.891867</td>\n",
       "      <td>21</td>\n",
       "      <td>1</td>\n",
       "      <td>0</td>\n",
       "      <td>3.927571</td>\n",
       "    </tr>\n",
       "    <tr>\n",
       "      <th>25847</th>\n",
       "      <td>2012-01-20 14:56:00.000000164</td>\n",
       "      <td>94.30</td>\n",
       "      <td>2012-01-20 14:56:00+00:00</td>\n",
       "      <td>-73.987312</td>\n",
       "      <td>40.749577</td>\n",
       "      <td>-74.096782</td>\n",
       "      <td>40.838132</td>\n",
       "      <td>1.0</td>\n",
       "      <td>13.486437</td>\n",
       "      <td>14</td>\n",
       "      <td>4</td>\n",
       "      <td>0</td>\n",
       "      <td>6.992210</td>\n",
       "    </tr>\n",
       "    <tr>\n",
       "      <th>28809</th>\n",
       "      <td>2012-11-11 15:16:00.00000064</td>\n",
       "      <td>104.00</td>\n",
       "      <td>2012-11-11 15:16:00+00:00</td>\n",
       "      <td>-73.978368</td>\n",
       "      <td>40.766565</td>\n",
       "      <td>-74.177017</td>\n",
       "      <td>40.694802</td>\n",
       "      <td>1.0</td>\n",
       "      <td>18.543288</td>\n",
       "      <td>15</td>\n",
       "      <td>6</td>\n",
       "      <td>1</td>\n",
       "      <td>5.608498</td>\n",
       "    </tr>\n",
       "    <tr>\n",
       "      <th>31706</th>\n",
       "      <td>2014-09-09 14:37:00.00000020</td>\n",
       "      <td>124.00</td>\n",
       "      <td>2014-09-09 14:37:00+00:00</td>\n",
       "      <td>-73.786840</td>\n",
       "      <td>40.653215</td>\n",
       "      <td>-73.424920</td>\n",
       "      <td>40.763515</td>\n",
       "      <td>1.0</td>\n",
       "      <td>32.879414</td>\n",
       "      <td>14</td>\n",
       "      <td>1</td>\n",
       "      <td>0</td>\n",
       "      <td>3.771357</td>\n",
       "    </tr>\n",
       "    <tr>\n",
       "      <th>33609</th>\n",
       "      <td>2009-01-18 01:03:55.0000002</td>\n",
       "      <td>100.00</td>\n",
       "      <td>2013-12-20 01:34:00+00:00</td>\n",
       "      <td>-74.005518</td>\n",
       "      <td>40.738890</td>\n",
       "      <td>-74.438630</td>\n",
       "      <td>40.683112</td>\n",
       "      <td>1.0</td>\n",
       "      <td>37.028695</td>\n",
       "      <td>1</td>\n",
       "      <td>4</td>\n",
       "      <td>0</td>\n",
       "      <td>2.700608</td>\n",
       "    </tr>\n",
       "    <tr>\n",
       "      <th>34110</th>\n",
       "      <td>2014-06-26 15:56:27.0000001</td>\n",
       "      <td>116.00</td>\n",
       "      <td>2014-06-26 15:56:27+00:00</td>\n",
       "      <td>-73.987073</td>\n",
       "      <td>40.760407</td>\n",
       "      <td>-74.176678</td>\n",
       "      <td>40.694202</td>\n",
       "      <td>1.0</td>\n",
       "      <td>17.591683</td>\n",
       "      <td>15</td>\n",
       "      <td>3</td>\n",
       "      <td>0</td>\n",
       "      <td>6.594025</td>\n",
       "    </tr>\n",
       "    <tr>\n",
       "      <th>41162</th>\n",
       "      <td>2013-08-01 14:29:40.0000001</td>\n",
       "      <td>93.58</td>\n",
       "      <td>2009-01-11 13:07:00+00:00</td>\n",
       "      <td>-73.790454</td>\n",
       "      <td>40.645222</td>\n",
       "      <td>-74.070535</td>\n",
       "      <td>40.794760</td>\n",
       "      <td>1.0</td>\n",
       "      <td>28.872655</td>\n",
       "      <td>13</td>\n",
       "      <td>6</td>\n",
       "      <td>1</td>\n",
       "      <td>3.241129</td>\n",
       "    </tr>\n",
       "    <tr>\n",
       "      <th>42143</th>\n",
       "      <td>2014-05-16 00:50:00.00000027</td>\n",
       "      <td>99.00</td>\n",
       "      <td>2014-05-16 00:50:00+00:00</td>\n",
       "      <td>-73.877040</td>\n",
       "      <td>40.772725</td>\n",
       "      <td>-74.031327</td>\n",
       "      <td>40.754837</td>\n",
       "      <td>1.0</td>\n",
       "      <td>13.145393</td>\n",
       "      <td>0</td>\n",
       "      <td>4</td>\n",
       "      <td>0</td>\n",
       "      <td>7.531156</td>\n",
       "    </tr>\n",
       "    <tr>\n",
       "      <th>43227</th>\n",
       "      <td>2014-01-29 12:47:12.0000004</td>\n",
       "      <td>91.50</td>\n",
       "      <td>2009-01-11 13:07:00+00:00</td>\n",
       "      <td>-73.970675</td>\n",
       "      <td>40.758536</td>\n",
       "      <td>-74.177266</td>\n",
       "      <td>40.695157</td>\n",
       "      <td>1.0</td>\n",
       "      <td>18.781115</td>\n",
       "      <td>13</td>\n",
       "      <td>6</td>\n",
       "      <td>1</td>\n",
       "      <td>4.871915</td>\n",
       "    </tr>\n",
       "    <tr>\n",
       "      <th>43712</th>\n",
       "      <td>2012-08-19 08:41:00.00000049</td>\n",
       "      <td>119.00</td>\n",
       "      <td>2012-08-19 08:41:00+00:00</td>\n",
       "      <td>-73.781928</td>\n",
       "      <td>40.752503</td>\n",
       "      <td>-74.165992</td>\n",
       "      <td>40.712675</td>\n",
       "      <td>1.0</td>\n",
       "      <td>32.662615</td>\n",
       "      <td>8</td>\n",
       "      <td>6</td>\n",
       "      <td>1</td>\n",
       "      <td>3.643309</td>\n",
       "    </tr>\n",
       "  </tbody>\n",
       "</table>\n",
       "</div>"
      ],
      "text/plain": [
       "                                 key  fare_amount           pickup_datetime  \\\n",
       "880      2013-06-18 15:41:55.0000002        93.16 2013-06-18 15:41:55+00:00   \n",
       "2053     2014-11-01 08:42:39.0000002       113.66 2014-11-01 08:42:39+00:00   \n",
       "4364     2012-09-12 13:09:20.0000001        93.30 2012-09-12 13:09:20+00:00   \n",
       "5968   2011-05-06 00:40:00.000000224       105.00 2011-05-06 00:40:00+00:00   \n",
       "9060    2011-06-13 15:46:00.00000036       126.10 2011-06-13 15:46:00+00:00   \n",
       "11301   2013-12-06 02:17:00.00000053       113.00 2013-12-06 02:17:00+00:00   \n",
       "15362    2009-01-18 01:03:55.0000002       120.30 2011-06-02 15:17:13+00:00   \n",
       "15461    2015-03-17 02:33:09.0000002       120.08 2015-03-17 02:33:09+00:00   \n",
       "17183   2014-01-21 14:22:00.00000059        96.50 2014-01-21 14:22:00+00:00   \n",
       "20928   2013-03-19 14:39:00.00000099        90.75 2013-03-19 14:39:00+00:00   \n",
       "22562    2013-03-21 22:39:09.0000002       105.33 2013-03-21 22:39:09+00:00   \n",
       "23148   2014-06-11 16:15:00.00000081       126.83 2014-06-11 16:15:00+00:00   \n",
       "23232    2014-03-25 21:43:05.0000004       121.33 2014-03-25 21:43:05+00:00   \n",
       "25847  2012-01-20 14:56:00.000000164        94.30 2012-01-20 14:56:00+00:00   \n",
       "28809   2012-11-11 15:16:00.00000064       104.00 2012-11-11 15:16:00+00:00   \n",
       "31706   2014-09-09 14:37:00.00000020       124.00 2014-09-09 14:37:00+00:00   \n",
       "33609    2009-01-18 01:03:55.0000002       100.00 2013-12-20 01:34:00+00:00   \n",
       "34110    2014-06-26 15:56:27.0000001       116.00 2014-06-26 15:56:27+00:00   \n",
       "41162    2013-08-01 14:29:40.0000001        93.58 2009-01-11 13:07:00+00:00   \n",
       "42143   2014-05-16 00:50:00.00000027        99.00 2014-05-16 00:50:00+00:00   \n",
       "43227    2014-01-29 12:47:12.0000004        91.50 2009-01-11 13:07:00+00:00   \n",
       "43712   2012-08-19 08:41:00.00000049       119.00 2012-08-19 08:41:00+00:00   \n",
       "\n",
       "       pickup_longitude  pickup_latitude  dropoff_longitude  dropoff_latitude  \\\n",
       "880          -73.777117        40.645058         -74.155763         40.579618   \n",
       "2053         -73.951227        40.778753         -73.949938         40.778149   \n",
       "4364         -73.991668        40.749564         -73.790275         40.643787   \n",
       "5968         -73.752265        40.923303         -73.752270         40.923303   \n",
       "9060         -73.788657        40.640643         -74.001350         41.048048   \n",
       "11301        -74.468770        40.476630         -74.468772         40.752910   \n",
       "15362        -73.995309        40.769470         -73.988705         40.768919   \n",
       "15461        -73.954262        40.673717         -74.165054         40.913963   \n",
       "17183        -73.976660        40.752503         -74.177077         40.694952   \n",
       "20928        -73.981857        40.801920         -74.176798         40.694337   \n",
       "22562        -73.870023        40.771434         -73.800544         40.988043   \n",
       "23148        -73.781277        40.644915         -73.760570         41.029780   \n",
       "23232        -73.804839        40.661458         -74.095215         40.831124   \n",
       "25847        -73.987312        40.749577         -74.096782         40.838132   \n",
       "28809        -73.978368        40.766565         -74.177017         40.694802   \n",
       "31706        -73.786840        40.653215         -73.424920         40.763515   \n",
       "33609        -74.005518        40.738890         -74.438630         40.683112   \n",
       "34110        -73.987073        40.760407         -74.176678         40.694202   \n",
       "41162        -73.790454        40.645222         -74.070535         40.794760   \n",
       "42143        -73.877040        40.772725         -74.031327         40.754837   \n",
       "43227        -73.970675        40.758536         -74.177266         40.695157   \n",
       "43712        -73.781928        40.752503         -74.165992         40.712675   \n",
       "\n",
       "       passenger_count  distance_km  pickup_hour  pickup_dow  is_weekend  \\\n",
       "880                2.0    32.779903           15           1           0   \n",
       "2053               1.0     0.127635            8           5           1   \n",
       "4364               2.0    20.654484           13           2           0   \n",
       "5968               1.0     0.000420            0           4           0   \n",
       "9060               1.0    48.706330           15           0           0   \n",
       "11301              2.0    30.720934            2           4           0   \n",
       "15362              2.0     0.559508           15           3           0   \n",
       "15461              2.0    32.070607            2           1           0   \n",
       "17183              1.0    18.060979           14           1           0   \n",
       "20928              1.0    20.316976           14           1           0   \n",
       "22562              1.0    24.784015           22           3           0   \n",
       "23148              1.0    42.830475           16           2           0   \n",
       "23232              1.0    30.891867           21           1           0   \n",
       "25847              1.0    13.486437           14           4           0   \n",
       "28809              1.0    18.543288           15           6           1   \n",
       "31706              1.0    32.879414           14           1           0   \n",
       "33609              1.0    37.028695            1           4           0   \n",
       "34110              1.0    17.591683           15           3           0   \n",
       "41162              1.0    28.872655           13           6           1   \n",
       "42143              1.0    13.145393            0           4           0   \n",
       "43227              1.0    18.781115           13           6           1   \n",
       "43712              1.0    32.662615            8           6           1   \n",
       "\n",
       "       price_per_km  \n",
       "880        2.841985  \n",
       "2053     113.660000  \n",
       "4364       4.517179  \n",
       "5968     105.000000  \n",
       "9060       2.588986  \n",
       "11301      3.678274  \n",
       "15362    120.300000  \n",
       "15461      3.744238  \n",
       "17183      5.343010  \n",
       "20928      4.466708  \n",
       "22562      4.249917  \n",
       "23148      2.961209  \n",
       "23232      3.927571  \n",
       "25847      6.992210  \n",
       "28809      5.608498  \n",
       "31706      3.771357  \n",
       "33609      2.700608  \n",
       "34110      6.594025  \n",
       "41162      3.241129  \n",
       "42143      7.531156  \n",
       "43227      4.871915  \n",
       "43712      3.643309  "
      ]
     },
     "execution_count": 578,
     "metadata": {},
     "output_type": "execute_result"
    }
   ],
   "source": [
    "df[(df['distance_km']<50) & (df['fare_amount']>90)]"
   ]
  },
  {
   "cell_type": "code",
   "execution_count": 579,
   "id": "02945083-86a4-4fe4-9213-66a1f2423bf5",
   "metadata": {},
   "outputs": [
    {
     "data": {
      "image/png": "[encoded data removed]",
      "text/plain": [
       "<Figure size 640x480 with 1 Axes>"
      ]
     },
     "metadata": {},
     "output_type": "display_data"
    }
   ],
   "source": [
    "plt.scatter(df['price_per_km'], df['fare_amount'], alpha=0.3)\n",
    "plt.xlabel('price_per_km')\n",
    "plt.ylabel('Prix ($)')\n",
    "plt.title('Prix vs price_per_km')\n",
    "plt.show()"
   ]
  },
  {
   "cell_type": "code",
   "execution_count": 580,
   "id": "80f425e5-9087-4320-985c-e8d9648abcef",
   "metadata": {},
   "outputs": [
    {
     "data": {
      "text/html": [
       "<div>\n",
       "<style scoped>\n",
       "    .dataframe tbody tr th:only-of-type {\n",
       "        vertical-align: middle;\n",
       "    }\n",
       "\n",
       "    .dataframe tbody tr th {\n",
       "        vertical-align: top;\n",
       "    }\n",
       "\n",
       "    .dataframe thead th {\n",
       "        text-align: right;\n",
       "    }\n",
       "</style>\n",
       "<table border=\"1\" class=\"dataframe\">\n",
       "  <thead>\n",
       "    <tr style=\"text-align: right;\">\n",
       "      <th></th>\n",
       "      <th>key</th>\n",
       "      <th>fare_amount</th>\n",
       "      <th>pickup_datetime</th>\n",
       "      <th>pickup_longitude</th>\n",
       "      <th>pickup_latitude</th>\n",
       "      <th>dropoff_longitude</th>\n",
       "      <th>dropoff_latitude</th>\n",
       "      <th>passenger_count</th>\n",
       "      <th>distance_km</th>\n",
       "      <th>pickup_hour</th>\n",
       "      <th>pickup_dow</th>\n",
       "      <th>is_weekend</th>\n",
       "      <th>price_per_km</th>\n",
       "    </tr>\n",
       "  </thead>\n",
       "  <tbody>\n",
       "    <tr>\n",
       "      <th>4</th>\n",
       "      <td>2014-08-28 17:47:00.000000188</td>\n",
       "      <td>16.00</td>\n",
       "      <td>2014-08-28 17:47:00+00:00</td>\n",
       "      <td>-73.981857</td>\n",
       "      <td>40.744085</td>\n",
       "      <td>-73.973082</td>\n",
       "      <td>40.752910</td>\n",
       "      <td>5.0</td>\n",
       "      <td>1.228574</td>\n",
       "      <td>17</td>\n",
       "      <td>3</td>\n",
       "      <td>0</td>\n",
       "      <td>13.023229</td>\n",
       "    </tr>\n",
       "    <tr>\n",
       "      <th>40</th>\n",
       "      <td>2010-04-01 14:42:00.000000160</td>\n",
       "      <td>15.70</td>\n",
       "      <td>2010-04-01 14:42:00+00:00</td>\n",
       "      <td>-73.973360</td>\n",
       "      <td>40.752503</td>\n",
       "      <td>-73.972810</td>\n",
       "      <td>40.743548</td>\n",
       "      <td>1.0</td>\n",
       "      <td>0.996797</td>\n",
       "      <td>14</td>\n",
       "      <td>3</td>\n",
       "      <td>0</td>\n",
       "      <td>15.700000</td>\n",
       "    </tr>\n",
       "    <tr>\n",
       "      <th>54</th>\n",
       "      <td>2009-04-09 11:27:00.000000125</td>\n",
       "      <td>16.90</td>\n",
       "      <td>2009-04-09 11:27:00+00:00</td>\n",
       "      <td>-73.986593</td>\n",
       "      <td>40.759143</td>\n",
       "      <td>-74.001767</td>\n",
       "      <td>40.752910</td>\n",
       "      <td>1.0</td>\n",
       "      <td>1.453927</td>\n",
       "      <td>11</td>\n",
       "      <td>3</td>\n",
       "      <td>0</td>\n",
       "      <td>11.623696</td>\n",
       "    </tr>\n",
       "    <tr>\n",
       "      <th>64</th>\n",
       "      <td>2014-08-22 14:58:01.0000001</td>\n",
       "      <td>13.00</td>\n",
       "      <td>2014-08-22 14:58:01+00:00</td>\n",
       "      <td>-73.993619</td>\n",
       "      <td>40.749808</td>\n",
       "      <td>-73.992512</td>\n",
       "      <td>40.756546</td>\n",
       "      <td>2.0</td>\n",
       "      <td>0.755012</td>\n",
       "      <td>14</td>\n",
       "      <td>4</td>\n",
       "      <td>0</td>\n",
       "      <td>13.000000</td>\n",
       "    </tr>\n",
       "    <tr>\n",
       "      <th>84</th>\n",
       "      <td>2009-08-07 10:43:07.0000001</td>\n",
       "      <td>49.57</td>\n",
       "      <td>2009-08-07 10:43:07+00:00</td>\n",
       "      <td>-73.975058</td>\n",
       "      <td>40.752503</td>\n",
       "      <td>-73.980170</td>\n",
       "      <td>40.788820</td>\n",
       "      <td>1.0</td>\n",
       "      <td>4.061178</td>\n",
       "      <td>10</td>\n",
       "      <td>4</td>\n",
       "      <td>0</td>\n",
       "      <td>12.205819</td>\n",
       "    </tr>\n",
       "    <tr>\n",
       "      <th>...</th>\n",
       "      <td>...</td>\n",
       "      <td>...</td>\n",
       "      <td>...</td>\n",
       "      <td>...</td>\n",
       "      <td>...</td>\n",
       "      <td>...</td>\n",
       "      <td>...</td>\n",
       "      <td>...</td>\n",
       "      <td>...</td>\n",
       "      <td>...</td>\n",
       "      <td>...</td>\n",
       "      <td>...</td>\n",
       "      <td>...</td>\n",
       "    </tr>\n",
       "    <tr>\n",
       "      <th>44052</th>\n",
       "      <td>2013-08-13 11:15:00.00000092</td>\n",
       "      <td>10.50</td>\n",
       "      <td>2013-08-13 11:15:00+00:00</td>\n",
       "      <td>-73.984972</td>\n",
       "      <td>40.759190</td>\n",
       "      <td>-73.983535</td>\n",
       "      <td>40.750902</td>\n",
       "      <td>4.0</td>\n",
       "      <td>0.929498</td>\n",
       "      <td>11</td>\n",
       "      <td>1</td>\n",
       "      <td>0</td>\n",
       "      <td>10.500000</td>\n",
       "    </tr>\n",
       "    <tr>\n",
       "      <th>44075</th>\n",
       "      <td>2009-05-23 19:15:00.000000150</td>\n",
       "      <td>13.70</td>\n",
       "      <td>2009-05-23 19:15:00+00:00</td>\n",
       "      <td>-73.997388</td>\n",
       "      <td>40.752503</td>\n",
       "      <td>-73.990317</td>\n",
       "      <td>40.757333</td>\n",
       "      <td>1.0</td>\n",
       "      <td>0.802008</td>\n",
       "      <td>19</td>\n",
       "      <td>5</td>\n",
       "      <td>1</td>\n",
       "      <td>13.700000</td>\n",
       "    </tr>\n",
       "    <tr>\n",
       "      <th>44131</th>\n",
       "      <td>2010-09-16 07:17:10.0000001</td>\n",
       "      <td>11.30</td>\n",
       "      <td>2010-09-16 07:17:10+00:00</td>\n",
       "      <td>-73.975982</td>\n",
       "      <td>40.752503</td>\n",
       "      <td>-73.987515</td>\n",
       "      <td>40.752910</td>\n",
       "      <td>1.0</td>\n",
       "      <td>0.972525</td>\n",
       "      <td>7</td>\n",
       "      <td>3</td>\n",
       "      <td>0</td>\n",
       "      <td>11.300000</td>\n",
       "    </tr>\n",
       "    <tr>\n",
       "      <th>44154</th>\n",
       "      <td>2011-07-29 21:33:44.0000001</td>\n",
       "      <td>12.50</td>\n",
       "      <td>2011-07-29 21:33:44+00:00</td>\n",
       "      <td>-73.981857</td>\n",
       "      <td>40.763648</td>\n",
       "      <td>-73.985091</td>\n",
       "      <td>40.752910</td>\n",
       "      <td>4.0</td>\n",
       "      <td>1.224682</td>\n",
       "      <td>21</td>\n",
       "      <td>4</td>\n",
       "      <td>0</td>\n",
       "      <td>10.206735</td>\n",
       "    </tr>\n",
       "    <tr>\n",
       "      <th>44193</th>\n",
       "      <td>2015-06-11 14:27:58.0000002</td>\n",
       "      <td>12.50</td>\n",
       "      <td>2015-06-11 14:27:58+00:00</td>\n",
       "      <td>-73.967628</td>\n",
       "      <td>40.762882</td>\n",
       "      <td>-73.979576</td>\n",
       "      <td>40.757084</td>\n",
       "      <td>1.0</td>\n",
       "      <td>1.195119</td>\n",
       "      <td>14</td>\n",
       "      <td>3</td>\n",
       "      <td>0</td>\n",
       "      <td>10.459211</td>\n",
       "    </tr>\n",
       "  </tbody>\n",
       "</table>\n",
       "<p>732 rows × 13 columns</p>\n",
       "</div>"
      ],
      "text/plain": [
       "                                 key  fare_amount           pickup_datetime  \\\n",
       "4      2014-08-28 17:47:00.000000188        16.00 2014-08-28 17:47:00+00:00   \n",
       "40     2010-04-01 14:42:00.000000160        15.70 2010-04-01 14:42:00+00:00   \n",
       "54     2009-04-09 11:27:00.000000125        16.90 2009-04-09 11:27:00+00:00   \n",
       "64       2014-08-22 14:58:01.0000001        13.00 2014-08-22 14:58:01+00:00   \n",
       "84       2009-08-07 10:43:07.0000001        49.57 2009-08-07 10:43:07+00:00   \n",
       "...                              ...          ...                       ...   \n",
       "44052   2013-08-13 11:15:00.00000092        10.50 2013-08-13 11:15:00+00:00   \n",
       "44075  2009-05-23 19:15:00.000000150        13.70 2009-05-23 19:15:00+00:00   \n",
       "44131    2010-09-16 07:17:10.0000001        11.30 2010-09-16 07:17:10+00:00   \n",
       "44154    2011-07-29 21:33:44.0000001        12.50 2011-07-29 21:33:44+00:00   \n",
       "44193    2015-06-11 14:27:58.0000002        12.50 2015-06-11 14:27:58+00:00   \n",
       "\n",
       "       pickup_longitude  pickup_latitude  dropoff_longitude  dropoff_latitude  \\\n",
       "4            -73.981857        40.744085         -73.973082         40.752910   \n",
       "40           -73.973360        40.752503         -73.972810         40.743548   \n",
       "54           -73.986593        40.759143         -74.001767         40.752910   \n",
       "64           -73.993619        40.749808         -73.992512         40.756546   \n",
       "84           -73.975058        40.752503         -73.980170         40.788820   \n",
       "...                 ...              ...                ...               ...   \n",
       "44052        -73.984972        40.759190         -73.983535         40.750902   \n",
       "44075        -73.997388        40.752503         -73.990317         40.757333   \n",
       "44131        -73.975982        40.752503         -73.987515         40.752910   \n",
       "44154        -73.981857        40.763648         -73.985091         40.752910   \n",
       "44193        -73.967628        40.762882         -73.979576         40.757084   \n",
       "\n",
       "       passenger_count  distance_km  pickup_hour  pickup_dow  is_weekend  \\\n",
       "4                  5.0     1.228574           17           3           0   \n",
       "40                 1.0     0.996797           14           3           0   \n",
       "54                 1.0     1.453927           11           3           0   \n",
       "64                 2.0     0.755012           14           4           0   \n",
       "84                 1.0     4.061178           10           4           0   \n",
       "...                ...          ...          ...         ...         ...   \n",
       "44052              4.0     0.929498           11           1           0   \n",
       "44075              1.0     0.802008           19           5           1   \n",
       "44131              1.0     0.972525            7           3           0   \n",
       "44154              4.0     1.224682           21           4           0   \n",
       "44193              1.0     1.195119           14           3           0   \n",
       "\n",
       "       price_per_km  \n",
       "4         13.023229  \n",
       "40        15.700000  \n",
       "54        11.623696  \n",
       "64        13.000000  \n",
       "84        12.205819  \n",
       "...             ...  \n",
       "44052     10.500000  \n",
       "44075     13.700000  \n",
       "44131     11.300000  \n",
       "44154     10.206735  \n",
       "44193     10.459211  \n",
       "\n",
       "[732 rows x 13 columns]"
      ]
     },
     "execution_count": 580,
     "metadata": {},
     "output_type": "execute_result"
    }
   ],
   "source": [
    "df[df['price_per_km']>10]"
   ]
  },
  {
   "cell_type": "code",
   "execution_count": 581,
   "id": "e47a53bb-3f4c-404c-b118-1a4e356fb9f4",
   "metadata": {},
   "outputs": [],
   "source": [
    "df=df[df['price_per_km']<10]"
   ]
  },
  {
   "cell_type": "code",
   "execution_count": 582,
   "id": "e536016a-e12b-4fa1-a89f-7bbcd3c1eff4",
   "metadata": {},
   "outputs": [
    {
     "data": {
      "text/plain": [
       "(42508, 13)"
      ]
     },
     "execution_count": 582,
     "metadata": {},
     "output_type": "execute_result"
    }
   ],
   "source": [
    "df.shape"
   ]
  },
  {
   "cell_type": "code",
   "execution_count": 636,
   "id": "5cb46c25-012a-44b8-acae-0c51f820d5a6",
   "metadata": {},
   "outputs": [
    {
     "data": {
      "image/png": "[encoded data removed]",
      "text/plain": [
       "<Figure size 640x480 with 1 Axes>"
      ]
     },
     "metadata": {},
     "output_type": "display_data"
    }
   ],
   "source": [
    "plt.scatter(df['price_per_km'], df['distance_km'], alpha=0.3)\n",
    "plt.xlabel('price_per_km')\n",
    "plt.ylabel('distance en km')\n",
    "plt.title('Prix vs price_per_km')\n",
    "plt.show()"
   ]
  },
  {
   "cell_type": "code",
   "execution_count": 638,
   "id": "2fde2393-a113-4f10-9c2c-0678a56fb957",
   "metadata": {},
   "outputs": [
    {
     "data": {
      "text/html": [
       "<div>\n",
       "<style scoped>\n",
       "    .dataframe tbody tr th:only-of-type {\n",
       "        vertical-align: middle;\n",
       "    }\n",
       "\n",
       "    .dataframe tbody tr th {\n",
       "        vertical-align: top;\n",
       "    }\n",
       "\n",
       "    .dataframe thead th {\n",
       "        text-align: right;\n",
       "    }\n",
       "</style>\n",
       "<table border=\"1\" class=\"dataframe\">\n",
       "  <thead>\n",
       "    <tr style=\"text-align: right;\">\n",
       "      <th></th>\n",
       "      <th>key</th>\n",
       "      <th>fare_amount</th>\n",
       "      <th>pickup_datetime</th>\n",
       "      <th>pickup_longitude</th>\n",
       "      <th>pickup_latitude</th>\n",
       "      <th>dropoff_longitude</th>\n",
       "      <th>dropoff_latitude</th>\n",
       "      <th>passenger_count</th>\n",
       "      <th>distance_km</th>\n",
       "      <th>pickup_hour</th>\n",
       "      <th>pickup_dow</th>\n",
       "      <th>is_weekend</th>\n",
       "      <th>price_per_km</th>\n",
       "    </tr>\n",
       "  </thead>\n",
       "  <tbody>\n",
       "  </tbody>\n",
       "</table>\n",
       "</div>"
      ],
      "text/plain": [
       "Empty DataFrame\n",
       "Columns: [key, fare_amount, pickup_datetime, pickup_longitude, pickup_latitude, dropoff_longitude, dropoff_latitude, passenger_count, distance_km, pickup_hour, pickup_dow, is_weekend, price_per_km]\n",
       "Index: []"
      ]
     },
     "execution_count": 638,
     "metadata": {},
     "output_type": "execute_result"
    }
   ],
   "source": [
    "df[((df['distance_km'] > 20) & (df['fare_amount'] < 5))]"
   ]
  },
  {
   "cell_type": "code",
   "execution_count": 640,
   "id": "ea470f67-4dac-4236-bd2b-091697d85e18",
   "metadata": {},
   "outputs": [
    {
     "data": {
      "text/html": [
       "<div>\n",
       "<style scoped>\n",
       "    .dataframe tbody tr th:only-of-type {\n",
       "        vertical-align: middle;\n",
       "    }\n",
       "\n",
       "    .dataframe tbody tr th {\n",
       "        vertical-align: top;\n",
       "    }\n",
       "\n",
       "    .dataframe thead th {\n",
       "        text-align: right;\n",
       "    }\n",
       "</style>\n",
       "<table border=\"1\" class=\"dataframe\">\n",
       "  <thead>\n",
       "    <tr style=\"text-align: right;\">\n",
       "      <th></th>\n",
       "      <th>key</th>\n",
       "      <th>fare_amount</th>\n",
       "      <th>pickup_datetime</th>\n",
       "      <th>pickup_longitude</th>\n",
       "      <th>pickup_latitude</th>\n",
       "      <th>dropoff_longitude</th>\n",
       "      <th>dropoff_latitude</th>\n",
       "      <th>passenger_count</th>\n",
       "      <th>distance_km</th>\n",
       "      <th>pickup_hour</th>\n",
       "      <th>pickup_dow</th>\n",
       "      <th>is_weekend</th>\n",
       "      <th>price_per_km</th>\n",
       "    </tr>\n",
       "  </thead>\n",
       "  <tbody>\n",
       "  </tbody>\n",
       "</table>\n",
       "</div>"
      ],
      "text/plain": [
       "Empty DataFrame\n",
       "Columns: [key, fare_amount, pickup_datetime, pickup_longitude, pickup_latitude, dropoff_longitude, dropoff_latitude, passenger_count, distance_km, pickup_hour, pickup_dow, is_weekend, price_per_km]\n",
       "Index: []"
      ]
     },
     "execution_count": 640,
     "metadata": {},
     "output_type": "execute_result"
    }
   ],
   "source": [
    "df[((df['distance_km'] < 1) & (df['fare_amount'] > 100))]"
   ]
  },
  {
   "cell_type": "code",
   "execution_count": 642,
   "id": "a3f90a6a-f1c3-42fa-ab4f-b7b1f69fec33",
   "metadata": {},
   "outputs": [
    {
     "data": {
      "text/html": [
       "<div>\n",
       "<style scoped>\n",
       "    .dataframe tbody tr th:only-of-type {\n",
       "        vertical-align: middle;\n",
       "    }\n",
       "\n",
       "    .dataframe tbody tr th {\n",
       "        vertical-align: top;\n",
       "    }\n",
       "\n",
       "    .dataframe thead th {\n",
       "        text-align: right;\n",
       "    }\n",
       "</style>\n",
       "<table border=\"1\" class=\"dataframe\">\n",
       "  <thead>\n",
       "    <tr style=\"text-align: right;\">\n",
       "      <th></th>\n",
       "      <th>key</th>\n",
       "      <th>fare_amount</th>\n",
       "      <th>pickup_datetime</th>\n",
       "      <th>pickup_longitude</th>\n",
       "      <th>pickup_latitude</th>\n",
       "      <th>dropoff_longitude</th>\n",
       "      <th>dropoff_latitude</th>\n",
       "      <th>passenger_count</th>\n",
       "      <th>distance_km</th>\n",
       "      <th>pickup_hour</th>\n",
       "      <th>pickup_dow</th>\n",
       "      <th>is_weekend</th>\n",
       "      <th>price_per_km</th>\n",
       "    </tr>\n",
       "  </thead>\n",
       "  <tbody>\n",
       "  </tbody>\n",
       "</table>\n",
       "</div>"
      ],
      "text/plain": [
       "Empty DataFrame\n",
       "Columns: [key, fare_amount, pickup_datetime, pickup_longitude, pickup_latitude, dropoff_longitude, dropoff_latitude, passenger_count, distance_km, pickup_hour, pickup_dow, is_weekend, price_per_km]\n",
       "Index: []"
      ]
     },
     "execution_count": 642,
     "metadata": {},
     "output_type": "execute_result"
    }
   ],
   "source": [
    "df[((df['distance_km'] < 1) & (df['fare_amount'] > 100))]"
   ]
  },
  {
   "cell_type": "code",
   "execution_count": 644,
   "id": "58ebb537-2f6d-413e-85ef-e97103b2b380",
   "metadata": {},
   "outputs": [],
   "source": [
    "df['passenger_count'] = df['passenger_count'].astype(int)"
   ]
  },
  {
   "cell_type": "code",
   "execution_count": 632,
   "id": "323789bc-ad96-4ce0-8956-06631f17cf8b",
   "metadata": {},
   "outputs": [],
   "source": [
    "df.to_csv(r\"C:\\Users\\hanin\\OneDrive\\Desktop\\Hanine Attia\\projects\\projet uber ML (CRISP-DM)/database_clean.csv\", index=False)"
   ]
  },
  {
   "cell_type": "code",
   "execution_count": 646,
   "id": "aa8b65a2-37a1-4ceb-9ca4-804046e2bae1",
   "metadata": {},
   "outputs": [
    {
     "data": {
      "text/html": [
       "<div>\n",
       "<style scoped>\n",
       "    .dataframe tbody tr th:only-of-type {\n",
       "        vertical-align: middle;\n",
       "    }\n",
       "\n",
       "    .dataframe tbody tr th {\n",
       "        vertical-align: top;\n",
       "    }\n",
       "\n",
       "    .dataframe thead th {\n",
       "        text-align: right;\n",
       "    }\n",
       "</style>\n",
       "<table border=\"1\" class=\"dataframe\">\n",
       "  <thead>\n",
       "    <tr style=\"text-align: right;\">\n",
       "      <th></th>\n",
       "      <th>key</th>\n",
       "      <th>fare_amount</th>\n",
       "      <th>pickup_datetime</th>\n",
       "      <th>pickup_longitude</th>\n",
       "      <th>pickup_latitude</th>\n",
       "      <th>dropoff_longitude</th>\n",
       "      <th>dropoff_latitude</th>\n",
       "      <th>passenger_count</th>\n",
       "      <th>distance_km</th>\n",
       "      <th>pickup_hour</th>\n",
       "      <th>pickup_dow</th>\n",
       "      <th>is_weekend</th>\n",
       "      <th>price_per_km</th>\n",
       "    </tr>\n",
       "  </thead>\n",
       "  <tbody>\n",
       "    <tr>\n",
       "      <th>0</th>\n",
       "      <td>2015-05-07 19:52:06.0000003</td>\n",
       "      <td>7.5</td>\n",
       "      <td>2015-05-07 19:52:06+00:00</td>\n",
       "      <td>-73.999817</td>\n",
       "      <td>40.738354</td>\n",
       "      <td>-73.999512</td>\n",
       "      <td>40.723217</td>\n",
       "      <td>1</td>\n",
       "      <td>1.683323</td>\n",
       "      <td>19</td>\n",
       "      <td>3</td>\n",
       "      <td>0</td>\n",
       "      <td>4.455474</td>\n",
       "    </tr>\n",
       "    <tr>\n",
       "      <th>1</th>\n",
       "      <td>2009-07-17 20:04:56.0000002</td>\n",
       "      <td>7.7</td>\n",
       "      <td>2009-07-17 20:04:56+00:00</td>\n",
       "      <td>-73.994355</td>\n",
       "      <td>40.728225</td>\n",
       "      <td>-73.994710</td>\n",
       "      <td>40.750325</td>\n",
       "      <td>1</td>\n",
       "      <td>2.457590</td>\n",
       "      <td>20</td>\n",
       "      <td>4</td>\n",
       "      <td>0</td>\n",
       "      <td>3.133151</td>\n",
       "    </tr>\n",
       "    <tr>\n",
       "      <th>2</th>\n",
       "      <td>2009-08-24 21:45:00.00000061</td>\n",
       "      <td>12.9</td>\n",
       "      <td>2009-01-11 13:07:00+00:00</td>\n",
       "      <td>-74.005043</td>\n",
       "      <td>40.740770</td>\n",
       "      <td>-73.980170</td>\n",
       "      <td>40.772647</td>\n",
       "      <td>1</td>\n",
       "      <td>4.117407</td>\n",
       "      <td>13</td>\n",
       "      <td>6</td>\n",
       "      <td>1</td>\n",
       "      <td>3.133040</td>\n",
       "    </tr>\n",
       "    <tr>\n",
       "      <th>3</th>\n",
       "      <td>2009-06-26 08:22:21.0000001</td>\n",
       "      <td>5.3</td>\n",
       "      <td>2009-06-26 08:22:21+00:00</td>\n",
       "      <td>-73.976124</td>\n",
       "      <td>40.752503</td>\n",
       "      <td>-73.965316</td>\n",
       "      <td>40.803349</td>\n",
       "      <td>3</td>\n",
       "      <td>5.726622</td>\n",
       "      <td>8</td>\n",
       "      <td>4</td>\n",
       "      <td>0</td>\n",
       "      <td>0.925502</td>\n",
       "    </tr>\n",
       "    <tr>\n",
       "      <th>5</th>\n",
       "      <td>2011-02-12 02:27:09.0000006</td>\n",
       "      <td>4.9</td>\n",
       "      <td>2011-02-12 02:27:09+00:00</td>\n",
       "      <td>-73.969019</td>\n",
       "      <td>40.755910</td>\n",
       "      <td>-73.969019</td>\n",
       "      <td>40.755910</td>\n",
       "      <td>1</td>\n",
       "      <td>0.000000</td>\n",
       "      <td>2</td>\n",
       "      <td>5</td>\n",
       "      <td>1</td>\n",
       "      <td>4.900000</td>\n",
       "    </tr>\n",
       "  </tbody>\n",
       "</table>\n",
       "</div>"
      ],
      "text/plain": [
       "                            key  fare_amount           pickup_datetime  \\\n",
       "0   2015-05-07 19:52:06.0000003          7.5 2015-05-07 19:52:06+00:00   \n",
       "1   2009-07-17 20:04:56.0000002          7.7 2009-07-17 20:04:56+00:00   \n",
       "2  2009-08-24 21:45:00.00000061         12.9 2009-01-11 13:07:00+00:00   \n",
       "3   2009-06-26 08:22:21.0000001          5.3 2009-06-26 08:22:21+00:00   \n",
       "5   2011-02-12 02:27:09.0000006          4.9 2011-02-12 02:27:09+00:00   \n",
       "\n",
       "   pickup_longitude  pickup_latitude  dropoff_longitude  dropoff_latitude  \\\n",
       "0        -73.999817        40.738354         -73.999512         40.723217   \n",
       "1        -73.994355        40.728225         -73.994710         40.750325   \n",
       "2        -74.005043        40.740770         -73.980170         40.772647   \n",
       "3        -73.976124        40.752503         -73.965316         40.803349   \n",
       "5        -73.969019        40.755910         -73.969019         40.755910   \n",
       "\n",
       "   passenger_count  distance_km  pickup_hour  pickup_dow  is_weekend  \\\n",
       "0                1     1.683323           19           3           0   \n",
       "1                1     2.457590           20           4           0   \n",
       "2                1     4.117407           13           6           1   \n",
       "3                3     5.726622            8           4           0   \n",
       "5                1     0.000000            2           5           1   \n",
       "\n",
       "   price_per_km  \n",
       "0      4.455474  \n",
       "1      3.133151  \n",
       "2      3.133040  \n",
       "3      0.925502  \n",
       "5      4.900000  "
      ]
     },
     "execution_count": 646,
     "metadata": {},
     "output_type": "execute_result"
    }
   ],
   "source": [
    "df.head()"
   ]
  },
  {
   "cell_type": "code",
   "execution_count": null,
   "id": "cdf3b20a-5159-4d5d-9d94-f7f29e106f4a",
   "metadata": {},
   "outputs": [],
   "source": []
  }
 ],
 "metadata": {
  "kernelspec": {
   "display_name": "Python 3 (ipykernel)",
   "language": "python",
   "name": "python3"
  },
  "language_info": {
   "codemirror_mode": {
    "name": "ipython",
    "version": 3
   },
   "file_extension": ".py",
   "mimetype": "text/x-python",
   "name": "python",
   "nbconvert_exporter": "python",
   "pygments_lexer": "ipython3",
   "version": "3.12.4"
  }
 },
 "nbformat": 4,
 "nbformat_minor": 5
}
