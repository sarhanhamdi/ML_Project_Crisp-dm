{
 "cells": [
  {
   "cell_type": "markdown",
   "id": "f590b6ed",
   "metadata": {},
   "source": [
    "# Phase 1 : Business Understanding"
   ]
  },
  {
   "cell_type": "markdown",
   "id": "c2839511",
   "metadata": {},
   "source": [
    "Le jeu de données Uber contient des informations sur chaque trajet, telles que le point de départ et d’arrivée, l’heure du trajet, le nombre de passagers et le coût. L’objectif de l’utilisation de ces données est d’aider Uber de deux manières : d’une part, en prédisant combien coûtera un trajet, et d’autre part, en comprenant les tendances des trajets afin d’améliorer les services et la prise de décision.\r\n",
    "\r\n"
   ]
  },
  {
   "cell_type": "markdown",
   "id": "0dbf77b6",
   "metadata": {},
   "source": [
    "## 1. Business Objective 1 :\n",
    "Uber souhaite fournir aux passagers des estimations de coût précises avant la réservation d’un trajet. Cela améliore la confiance et la satisfaction des clients en évitant les coûts imprévus, et aide les passagers à prendre des décisions éclairées.\n",
    "\n",
    "## 1.1 Data Science Objective 1 (Supervisé) :\n",
    "Développer un modèle supervisé pour prédire la variable du coût du trajet en se basant sur les caractéristiques du jeu de données.\n",
    "\n",
    "## 2. Business Objective 2 :\n",
    "Uber souhaite également acquérir des connaissances sur le comportement des trajets en identifiant des motifs et en regroupant les trajets similaires. Cela permet de mieux comprendre la segmentation du marché et de détecter des anomalies ou des fraudes.\n",
    "\n",
    "## 2.1 Data Science Objective 2 (Non supervisé) :\n",
    "Appliquer des techniques d’apprentissage non supervisé (clustering) pour regrouper les trajets en fonction de caractéristiques telles que la distance du trajet, l’heure de la journée et le nombre de passagers. L’objectif est de révéler des structures cachées dans les données, de détecter des valeurs aberrantes et de fournir des insights exploitables pour l’entreprise, allant au-delà de la simple prédiction des tarifs."
   ]
  }
 ],
 "metadata": {
  "kernelspec": {
   "display_name": "Python 3 (ipykernel)",
   "language": "python",
   "name": "python3"
  },
  "language_info": {
   "codemirror_mode": {
    "name": "ipython",
    "version": 3
   },
   "file_extension": ".py",
   "mimetype": "text/x-python",
   "name": "python",
   "nbconvert_exporter": "python",
   "pygments_lexer": "ipython3",
   "version": "3.12.4"
  }
 },
 "nbformat": 4,
 "nbformat_minor": 5
}
