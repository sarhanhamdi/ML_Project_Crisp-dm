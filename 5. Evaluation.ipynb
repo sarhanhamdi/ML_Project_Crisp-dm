{
 "cells": [
  {
   "cell_type": "code",
   "execution_count": 2,
   "id": "cf07c9e7-d5a4-405b-8d63-10e5f497b120",
   "metadata": {},
   "outputs": [],
   "source": [
    "import pandas as pd\n",
    "import numpy as np\n",
    "from sklearn.model_selection import train_test_split, cross_val_score\n",
    "from sklearn.linear_model import LinearRegression\n",
    "from sklearn.ensemble import RandomForestRegressor, GradientBoostingRegressor\n",
    "from xgboost import XGBRegressor\n",
    "from sklearn.neighbors import KNeighborsRegressor\n",
    "from sklearn.preprocessing import StandardScaler\n",
    "from sklearn.metrics import mean_squared_error, mean_absolute_error, r2_score\n",
    "from sklearn.cluster import KMeans\n",
    "import time"
   ]
  },
  {
   "cell_type": "code",
   "execution_count": 3,
   "id": "69135bc2-df55-4ebe-8a3a-0ca4b1ef35e0",
   "metadata": {},
   "outputs": [],
   "source": [
    "data = pd.read_csv('database_clean.csv')"
   ]
  },
  {
   "cell_type": "code",
   "execution_count": 6,
   "id": "5f8e996b-fdb4-4956-85b6-cfbab6ce1636",
   "metadata": {},
   "outputs": [],
   "source": [
    "# Features et cible\n",
    "features = ['distance_km', 'passenger_count', 'pickup_hour', 'is_weekend','pickup_dow']\n",
    "X = data[features]\n",
    "y = data['fare_amount']"
   ]
  },
  {
   "cell_type": "code",
   "execution_count": 8,
   "id": "1a0fea05-f3e1-4c92-84e0-6fc7f5dd898b",
   "metadata": {},
   "outputs": [],
   "source": [
    "# Standardisation des features\n",
    "scaler = StandardScaler()\n",
    "X_scaled = scaler.fit_transform(X)\n"
   ]
  },
  {
   "cell_type": "code",
   "execution_count": 10,
   "id": "39f5620e-d830-4005-8067-856d7d8ff99d",
   "metadata": {},
   "outputs": [],
   "source": [
    "# Séparation train/test\n",
    "X_train, X_test, y_train, y_test = train_test_split(X_scaled, y, test_size=0.2, random_state=42)\n"
   ]
  },
  {
   "cell_type": "code",
   "execution_count": 12,
   "id": "8ae50a3c-7445-4009-b852-8d35334a1453",
   "metadata": {},
   "outputs": [],
   "source": [
    "\n",
    "# Dictionnaire des modèles\n",
    "models = {\n",
    "    'Linear Regression': LinearRegression(),\n",
    "    'Random Forest': RandomForestRegressor(n_estimators=100, random_state=42),\n",
    "    'Gradient Boosting': GradientBoostingRegressor(n_estimators=200, learning_rate=0.1, random_state=42),\n",
    "    'XGBoost': XGBRegressor(n_estimators=200,learning_rate=0.1, max_depth=6,subsample=0.8,colsample_bytree=0.8,random_state=42),\n",
    "    'KNN': KNeighborsRegressor(n_neighbors=5)\n",
    "}"
   ]
  },
  {
   "cell_type": "code",
   "execution_count": 14,
   "id": "b611e015-da37-4d50-825a-48c8c1dac7c9",
   "metadata": {},
   "outputs": [],
   "source": [
    "# Fonction d'évaluation\n",
    "def evaluate_model(model, model_name, X_train, X_test, y_train, y_test):\n",
    "    start_time = time.time()\n",
    "    model.fit(X_train, y_train)\n",
    "    y_pred = model.predict(X_test)\n",
    "    \n",
    "    mse = mean_squared_error(y_test, y_pred)\n",
    "    rmse = np.sqrt(mse)\n",
    "    mae = mean_absolute_error(y_test, y_pred)\n",
    "    r2 = r2_score(y_test, y_pred)\n",
    "    \n",
    "    # Validation croisée\n",
    "    cv_scores = cross_val_score(model, X_scaled, y, cv=5, scoring='r2')\n",
    "    cv_mean, cv_std = cv_scores.mean(), cv_scores.std()\n",
    "    \n",
    "    execution_time = time.time() - start_time\n",
    "    return {\n",
    "        'Model': model_name,\n",
    "        'RMSE': rmse,\n",
    "        'MAE': mae,\n",
    "        'R2': r2,\n",
    "        'CV R2 Mean': cv_mean,\n",
    "        'CV R2 Std': cv_std,\n",
    "        'Time (s)': execution_time\n",
    "    }"
   ]
  },
  {
   "cell_type": "code",
   "execution_count": 16,
   "id": "9d0ef976-8c5b-466c-9c52-2d294c42f544",
   "metadata": {},
   "outputs": [
    {
     "name": "stdout",
     "output_type": "stream",
     "text": [
      "Linear Regression: RMSE = 4.88, MAE = 2.45, R2 = 0.703, CV R2 = 0.737 (±0.029), Time = 0.10s\n",
      "Random Forest: RMSE = 4.44, MAE = 2.60, R2 = 0.755, CV R2 = 0.758 (±0.011), Time = 77.24s\n",
      "Gradient Boosting: RMSE = 4.00, MAE = 2.33, R2 = 0.801, CV R2 = 0.784 (±0.012), Time = 35.33s\n",
      "XGBoost: RMSE = 4.34, MAE = 2.43, R2 = 0.765, CV R2 = 0.756 (±0.013), Time = 1.72s\n",
      "KNN: RMSE = 4.38, MAE = 2.61, R2 = 0.762, CV R2 = 0.752 (±0.010), Time = 0.79s\n"
     ]
    }
   ],
   "source": [
    "# Évaluation des modèles de régression\n",
    "results = []\n",
    "for name, model in models.items():\n",
    "    result = evaluate_model(model, name, X_train, X_test, y_train, y_test)\n",
    "    results.append(result)\n",
    "    print(f\"{name}: RMSE = {result['RMSE']:.2f}, MAE = {result['MAE']:.2f}, R2 = {result['R2']:.3f}, \"\n",
    "      f\"CV R2 = {result['CV R2 Mean']:.3f} (±{result['CV R2 Std']:.3f}), Time = {result['Time (s)']:.2f}s\")"
   ]
  },
  {
   "cell_type": "code",
   "execution_count": 18,
   "id": "83f9830c-f55f-49df-beeb-b0a7ee2fad37",
   "metadata": {},
   "outputs": [],
   "source": [
    "# Clustering avec KMeans\n",
    "kmeans = KMeans(n_clusters=4, random_state=42, n_init=10)\n",
    "cluster_labels = kmeans.fit_predict(X_scaled)\n",
    "data['cluster'] = cluster_labels"
   ]
  },
  {
   "cell_type": "code",
   "execution_count": 20,
   "id": "8e8db58c-481a-4ea3-a1ea-7a6d2f821f96",
   "metadata": {},
   "outputs": [
    {
     "name": "stdout",
     "output_type": "stream",
     "text": [
      "Clustering Inertia: 93325.59\n"
     ]
    }
   ],
   "source": [
    "# Évaluation du clustering (inertie et silhouette si besoin)\n",
    "inertia = kmeans.inertia_\n",
    "print(f\"Clustering Inertia: {inertia:.2f}\")"
   ]
  },
  {
   "cell_type": "code",
   "execution_count": 22,
   "id": "b087f91c-ae42-46e0-a880-ab646f8e282e",
   "metadata": {},
   "outputs": [
    {
     "name": "stdout",
     "output_type": "stream",
     "text": [
      "\n",
      "Cluster Means:\n",
      "         distance_km  passenger_count  pickup_hour  is_weekend  pickup_dow  \\\n",
      "cluster                                                                      \n",
      "0           2.618446         1.228220    13.913167    0.000000    2.080863   \n",
      "1           2.904813         1.348556    12.413091    1.000000    5.556771   \n",
      "2           2.962996         5.044733    13.971861    0.312169    3.193843   \n",
      "3          15.738089         1.507678    13.049424    0.242322    2.984165   \n",
      "\n",
      "         fare_amount  \n",
      "cluster               \n",
      "0           9.399325  \n",
      "1           9.708264  \n",
      "2          10.169519  \n",
      "3          38.895576  \n"
     ]
    }
   ],
   "source": [
    "# Résultats par cluster\n",
    "cluster_summary = data.groupby('cluster')[features + ['fare_amount']].mean()\n",
    "print(\"\\nCluster Means:\")\n",
    "print(cluster_summary)"
   ]
  },
  {
   "cell_type": "code",
   "execution_count": 24,
   "id": "c7f5d29b-9f7f-4ba5-a9bd-9ca092b329f8",
   "metadata": {},
   "outputs": [
    {
     "name": "stdout",
     "output_type": "stream",
     "text": [
      "\n",
      "Results saved to 'model_evaluation_results.csv'\n"
     ]
    }
   ],
   "source": [
    "\n",
    "# Sauvegarde des résultats\n",
    "results_df = pd.DataFrame(results)\n",
    "results_df.to_csv('model_evaluation_results.csv', index=False)\n",
    "print(\"\\nResults saved to 'model_evaluation_results.csv'\")"
   ]
  },
  {
   "cell_type": "code",
   "execution_count": 26,
   "id": "b8507bb7-6c59-4d42-af4a-090a42b7826a",
   "metadata": {},
   "outputs": [
    {
     "name": "stdout",
     "output_type": "stream",
     "text": [
      "\n",
      "Best Model: Gradient Boosting with R2 = 0.801\n"
     ]
    }
   ],
   "source": [
    "# Meilleur modèle basé sur R2\n",
    "best_model = max(results, key=lambda x: x['R2'])\n",
    "print(f\"\\nBest Model: {best_model['Model']} with R2 = {best_model['R2']:.3f}\")"
   ]
  },
  {
   "cell_type": "code",
   "execution_count": 28,
   "id": "3a4528d9-88c2-44b9-ab01-51a763a07096",
   "metadata": {},
   "outputs": [],
   "source": [
    "from sklearn.metrics import silhouette_score, calinski_harabasz_score, davies_bouldin_score\n"
   ]
  },
  {
   "cell_type": "code",
   "execution_count": 30,
   "id": "a8c5b98b-d971-44ce-8bb2-edd06a2dc24a",
   "metadata": {},
   "outputs": [
    {
     "name": "stdout",
     "output_type": "stream",
     "text": [
      "Silhouette Score: 0.429\n",
      "Calinski-Harabasz Index: 18098.251\n",
      "Davies-Bouldin Index: 0.954\n"
     ]
    }
   ],
   "source": [
    "# Scores d'évaluation non supervisée\n",
    "silhouette = silhouette_score(X_scaled, cluster_labels)\n",
    "calinski = calinski_harabasz_score(X_scaled, cluster_labels)\n",
    "davies = davies_bouldin_score(X_scaled, cluster_labels)\n",
    "\n",
    "print(f\"Silhouette Score: {silhouette:.3f}\")\n",
    "print(f\"Calinski-Harabasz Index: {calinski:.3f}\")\n",
    "print(f\"Davies-Bouldin Index: {davies:.3f}\")"
   ]
  },
  {
   "cell_type": "code",
   "execution_count": null,
   "id": "88fdabd7-821e-4abd-be9d-b5913cbf74bc",
   "metadata": {},
   "outputs": [],
   "source": [
    "Silhouette Score = 0.429\n",
    "➝ Le score est compris entre -1 et 1. Plus il est proche de 1, plus les clusters sont bien séparés.\n",
    "➝ 0.429 est correct : ça montre que les clusters sont plutôt bien définis, mais pas parfaits.\n",
    "\n",
    "Calinski-Harabasz Index = 18 098.251\n",
    "➝ Plus ce score est élevé, mieux c’est.\n",
    "➝ valeur est très grande, ce qui confirme que les clusters sont denses et bien séparés.\n",
    "\n",
    "Davies-Bouldin Index = 0.954\n",
    "➝ Plus il est bas, mieux c’est.\n",
    "➝ En dessous de 1, c’est déjà un bon signe : les clusters ne se chevauchent pas trop."
   ]
  }
 ],
 "metadata": {
  "kernelspec": {
   "display_name": "Python [conda env:base] *",
   "language": "python",
   "name": "conda-base-py"
  },
  "language_info": {
   "codemirror_mode": {
    "name": "ipython",
    "version": 3
   },
   "file_extension": ".py",
   "mimetype": "text/x-python",
   "name": "python",
   "nbconvert_exporter": "python",
   "pygments_lexer": "ipython3",
   "version": "3.12.7"
  }
 },
 "nbformat": 4,
 "nbformat_minor": 5
}
